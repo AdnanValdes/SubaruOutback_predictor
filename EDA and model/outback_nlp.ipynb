{
 "metadata": {
  "language_info": {
   "codemirror_mode": {
    "name": "ipython",
    "version": 3
   },
   "file_extension": ".py",
   "mimetype": "text/x-python",
   "name": "python",
   "nbconvert_exporter": "python",
   "pygments_lexer": "ipython3",
   "version": "3.9.2-final"
  },
  "orig_nbformat": 2,
  "kernelspec": {
   "name": "python3",
   "display_name": "Python 3.9.2 64-bit",
   "metadata": {
    "interpreter": {
     "hash": "d3630d90b9fbac844aeac1bdf539f853ac42a39129bce57f1bbc9de9c61292ea"
    }
   }
  }
 },
 "nbformat": 4,
 "nbformat_minor": 2,
 "cells": [
  {
   "cell_type": "code",
   "execution_count": 1,
   "metadata": {},
   "outputs": [],
   "source": [
    "import pandas as pd\n",
    "import numpy as np\n",
    "import re"
   ]
  },
  {
   "cell_type": "code",
   "execution_count": 2,
   "metadata": {},
   "outputs": [],
   "source": [
    "df = pd.read_csv('../data/vehicles.csv')\n",
    "outback = df[df.model == 'outback']\n",
    "del df\n",
    "outback.drop(['Unnamed: 0', 'id', 'url', 'region_url', 'image_url', 'state', 'lat', 'long', 'posting_date'], inplace=True, axis=1)\n",
    "outback = outback[~outback.condition.isin(['salvage', 'new'])]\n"
   ]
  },
  {
   "cell_type": "code",
   "execution_count": 3,
   "metadata": {},
   "outputs": [
    {
     "output_type": "execute_result",
     "data": {
      "text/plain": [
       "array(['excellent', 'good', nan, 'like new', 'fair'], dtype=object)"
      ]
     },
     "metadata": {},
     "execution_count": 3
    }
   ],
   "source": [
    "outback.condition.unique()"
   ]
  },
  {
   "cell_type": "code",
   "execution_count": 4,
   "metadata": {},
   "outputs": [],
   "source": [
    "#re_excellent = re.compile(r'.*(excellent condition).* | .*(condition. excellent).*')\n",
    "#re_good = re.compile(r'.*(good condition).* | .*(condition. good).*')\n",
    "#re_like_new = re.compile(r'.*(like new condition).* | .*(condition. like new).*')\n",
    "#re_fair = re.compile(r'.*(fair condition).* | .*(condition. fair).*')\n",
    "re_excellent = re.compile(r'.*(excellent condition).* | .*(condition. excellent).*')\n",
    "re_good = re.compile(r'.*(good condition).* | .*(condition. good).*')\n",
    "re_like_new = re.compile(r'.*(like new condition).* | .*(condition. like new).*')\n",
    "re_fair = re.compile(r'.*(fair condition).* | .*(condition. fair).*')"
   ]
  },
  {
   "cell_type": "code",
   "execution_count": 5,
   "metadata": {},
   "outputs": [
    {
     "output_type": "execute_result",
     "data": {
      "text/plain": [
       "887"
      ]
     },
     "metadata": {},
     "execution_count": 5
    }
   ],
   "source": [
    "outback.condition.isna().sum()"
   ]
  },
  {
   "cell_type": "code",
   "execution_count": 6,
   "metadata": {},
   "outputs": [],
   "source": [
    "outback.condition.fillna(outback[outback.description.apply(lambda x: bool(re_fair.match(x.lower())))].condition.fillna('fair'), inplace=True)\n",
    "outback.condition.fillna(outback[outback.description.apply(lambda x: bool(re_like_new.match(x.lower())))].condition.fillna('like new'), inplace=True)\n",
    "outback.condition.fillna(outback[outback.description.apply(lambda x: bool(re_good.match(x.lower())))].condition.fillna('good'), inplace=True)\n",
    "outback.condition.fillna(outback[outback.description.apply(lambda x: bool(re_excellent.match(x.lower())))].condition.fillna('excellent'), inplace=True)"
   ]
  },
  {
   "cell_type": "code",
   "execution_count": 12,
   "metadata": {},
   "outputs": [
    {
     "output_type": "execute_result",
     "data": {
      "text/plain": [
       "'2019 Subaru Outback Premium -- $29,194       ☎ Call: (907) 318-3025  ext 10065  📱 Text  10065 to  (907) 318-3025 Vehicle Information: 2019 Subaru Outback PremiumPrice:  $29,194    Year:  2019*      Make:  *Subaru**      Model:  *Outback**      Series:  *Premium**      Body Style:  SUV*    Stock Number:  U5160    VIN:  4S4BSAFC5K3362171    Mileage:  17,113    Engine:  2.5 Liter    Transmission:  CVT    Exterior Color:      Interior Color:  To get started, just complete our secure online credit application. We\\'ll help you get pre-approved, making it even easier for you to shop for your next vehicle. Copy and Paste this linkhttp://aswt.co/czich             For more details, pictures and information on this ***Subaru**** ***Outback**** ***Premium****, Paste the link below into your browser:                http://aswt.co/czicm                 Vehicle Options For This *Subaru** *Outback**:                             ✅ SUV*                ✅ Black Bodyside Cladding                ✅ Body-Colored Door Handles                ✅ Body-Colored Front Bumper w/Black Rub Strip/Fascia Accent                ✅ Body-Colored Power Heated Side Mirrors w/Manual Folding                ✅ Body-Colored Rear Bumper w/Black Rub Strip/Fascia Accent                ✅ Chrome Side Windows Trim                ✅ Clearcoat Paint                ✅ Compact Spare Tire Mounted Inside Under Cargo                ✅ Deep Tinted Glass                ✅ Fixed Rear Window w/Fixed Interval Wiper, Heated Wiper Park and Defroster                ✅ Front Fog Lamps                ✅ Front Windshield -inc: Sun Visor Strip                ✅ Fully Automatic Projector Beam Halogen Daytime Running Headlamps                ✅ Galvanized Steel/Aluminum Panels                ✅ Grille w/Chrome Bar                ✅ LED Brakelights                ✅ Liftgate Rear Cargo Access                ✅ Lip Spoiler                ✅ Perimeter/Approach Lights                ✅ Roof Rack                ✅ Steel Spare Wheel                ✅ Tailgate/Rear Door Lock Included w/Power Door Locks                ✅ Tires: 225/65R17 102H All-Season                ✅ Variable Intermittent Wipers w/Heated Wiper Park                ✅ Wheels: 17\" Alloy                ✅ 3 12V DC Power Outlets                ✅ 4-Way Passenger Seat -inc: Manual Recline and Fore/Aft Movement                ✅ 60-40 Folding Bench Front Facing Manual Reclining Fold Forward Seatback Rear Seat                ✅ 8-Way Driver Seat                ✅ Air Filtration                ✅ Analog Display                ✅ Cargo Area Concealed Storage                ✅ Cargo Features -inc: Cargo Tray/Organizer                ✅ Cargo Space Lights                ✅ Carpet Floor Trim and Vinyl/Rubber Mat                ✅ Cloth Door Trim Insert                ✅ Cloth Upholstery                ✅ Compass                ✅ Cruise Control w/Steering Wheel Controls                                                        ☎ Call (907) 318-3025  ext 10065   or 📱 Text  10065 to  (907) 318-3025  to find out more about this ***Subaru**** ***Outback****.                -or-                          Paste the link below into your browser to get more detailed information about this ____Subaru*____Outback*____Premium*:                        http://aswt.co/czicm                                     Call  or Text  us today and mention that you heard about this vehicle on Craigslist!                         Continental Auto Group            ☎ Phone Number: (907) 318-3025  ext 10065              📱  Text Number:  Text 10065 to  (907) 318-3025              Additional Vehicle Information:                                     The genius of the Outback has always been its ability to straddle classifications; it helped create the crossover segment in the 1990s..  Call today to schedule your test drive.  No more cold seats.  This SUV includes heated seats.  Does this deal seem too good to be true? It\\'s just our everyday low prices!  Fill-up for less with this EPA estimated 28 MPG combined vehicle.  This baby is going to fly off the lot at this price.  A backup camera makes all the difference when parallel parking.  You\\'ll also love this Outback\\'s power mirrors, steering wheel controls, keyless entry, tinted/privacy glass and anti-theft system.                                                               2019, 19, \\'19, Outback, Premium, SUV, Sports Utility Vehicle, Continental Auto Group, *Continental* *Auto* *Group*, ~as5317_cl405~Powered by AutoSweet | www.autosweet.com'"
      ]
     },
     "metadata": {},
     "execution_count": 12
    }
   ],
   "source": [
    "outback[outback.condition.isna()].description.tolist()[23]"
   ]
  },
  {
   "cell_type": "code",
   "execution_count": 15,
   "metadata": {},
   "outputs": [
    {
     "output_type": "execute_result",
     "data": {
      "text/plain": [
       "region             0\n",
       "price              0\n",
       "year               0\n",
       "manufacturer       0\n",
       "model              0\n",
       "condition        832\n",
       "cylinders        716\n",
       "fuel               2\n",
       "odometer         198\n",
       "title_status       5\n",
       "transmission      15\n",
       "VIN              733\n",
       "drive            757\n",
       "size            1350\n",
       "type             533\n",
       "paint_color      617\n",
       "description        0\n",
       "dtype: int64"
      ]
     },
     "metadata": {},
     "execution_count": 15
    }
   ],
   "source": [
    "outback.isna().sum()"
   ]
  },
  {
   "cell_type": "code",
   "execution_count": null,
   "metadata": {},
   "outputs": [],
   "source": []
  }
 ]
}